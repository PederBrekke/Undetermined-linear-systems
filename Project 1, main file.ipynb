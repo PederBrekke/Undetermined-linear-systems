{
 "cells": [
  {
   "cell_type": "markdown",
   "id": "9bd146c5",
   "metadata": {},
   "source": [
    "# Candidate number: 10006\n"
   ]
  },
  {
   "cell_type": "markdown",
   "id": "c41c44b1",
   "metadata": {},
   "source": [
    "## Introduction"
   ]
  },
  {
   "cell_type": "markdown",
   "id": "4c9a91a6",
   "metadata": {},
   "source": [
    "In this project we will work with solving undertermined linear systems, where our project contains three separate but closely linked tasks. Generally, we will try to solve a constraint optimization problem in finding $x_{min}$, this by using a range of different methods. This will in the end be applied to a more real-life problem, namely single channel source separation for images. In some settings, we will also compare our developed implementations for finding $x_{min}$, to some of NumPy's own functions. Here, we are both interested in accuracy and runtime of our functions."
   ]
  },
  {
   "cell_type": "markdown",
   "id": "13000940",
   "metadata": {},
   "source": [
    "## TASK 1 "
   ]
  },
  {
   "cell_type": "markdown",
   "id": "9d791536",
   "metadata": {},
   "source": [
    "### 1 a)"
   ]
  },
  {
   "cell_type": "markdown",
   "id": "8980b6b4",
   "metadata": {},
   "source": [
    "We consider a matrix **A** $\\in {\\rm I\\!R}^{m \\times n}$, given $m = 2$ and $n = 3$. Further, our linear system is on the form $Ax = y$, where $x \\in {\\rm I\\!R}^n$ and $y \\in {\\rm I\\!R}^m$. We then look for two examples of A and y such that the linear system <br> **(1)** does not have a solution. <br>\n",
    "**(2)** has infinetly many solutions.\n",
    "<br>\n",
    "<br>\n",
    "**For (1):** <br>\n",
    "If Gauss-elimination on a linear system gives us a row on the form [0,0,...,0|non-zero]; our matrix is inconsistent. This simplest example of this is if we choose our matrix **A** to be the null matrix, while choosing any non-zero vector **y**. Using that $m = 2$ and $n = 3$, one example could look like this:\n",
    "\n",
    "$A = \n",
    "\\left(\\begin{array}{cc} \n",
    "0 & 0 & 0\\\\\n",
    "0 & 0 & 0\n",
    "\\end{array}\\right)\n",
    "$ ,\n",
    "$\n",
    " y =\n",
    "\\left(\\begin{array}{cc} \n",
    "1\\\\\n",
    "2\n",
    "\\end{array}\\right)\n",
    "$ ,with the matrix for the system of linear equations would look like this $\n",
    "\\left[\n",
    "\\begin{array}{ccc|c}\n",
    "0 & 0 & 0 & 1 \\\\\n",
    "0 & 0 & 0 & 2 \\\\\n",
    "\\end{array}\n",
    "\\right]\n",
    "$"
   ]
  },
  {
   "cell_type": "markdown",
   "id": "8d72ea7c",
   "metadata": {},
   "source": [
    "Another example would be if first have to Gauss-eliminate to get a zero-row. For this to happen, we must have that two or more rows in A are scalar by some factor _a_ of eachother, while their corresponding values in **y** are not scalar by the same factor _a_. For example, **A** and **y** could be given as such:\n",
    "\n",
    "$A = \n",
    "\\left(\\begin{array}{cc} \n",
    "1 & 2 & 4\\\\\n",
    "2 & 4 & 8\n",
    "\\end{array}\\right)\n",
    "$ ,\n",
    "$\n",
    " y =\n",
    "\\left(\\begin{array}{cc} \n",
    "12\\\\\n",
    "3\n",
    "\\end{array}\\right)\n",
    "$   ,with the matrix for the system of linear equations would be $\n",
    "\\left[\n",
    "\\begin{array}{ccc|c}\n",
    "1 & 2 & 4 & 12 \\\\\n",
    "2 & 4 & 8 & 3 \\\\\n",
    "\\end{array}\n",
    "\\right]\n",
    "$ $\\sim$ $\n",
    "\\left[\n",
    "\\begin{array}{ccc|c}\n",
    "1 & 2 & 4 & 12 \\\\\n",
    "0 & 0 & 0 & -21 \\\\\n",
    "\\end{array}\n",
    "\\right]\n",
    "$\n",
    "\n",
    "Both of the examples of **A** and **y** above gives a linear system of equations without a solution."
   ]
  },
  {
   "cell_type": "markdown",
   "id": "861dd3b9",
   "metadata": {},
   "source": [
    "**For (2):** <br>\n",
    "For a system of linear equations to have infinetly many solutions, we must at least one free variable in our gauss-elimination of our matrix [**A**,**y**]. That means that some of our columns in **A** must be linearly dependent. Two examples for **A** and **y** of this could be as such:\n",
    "\n",
    "$$A = \n",
    "\\left(\\begin{array}{cc} \n",
    "1 & 2 & 3\\\\\n",
    "2 & 4 & 5\n",
    "\\end{array}\\right)\n",
    ",\n",
    " y =\n",
    "\\left(\\begin{array}{cc} \n",
    "9\\\\\n",
    "17\n",
    "\\end{array}\\right)\n",
    "$$\n",
    "or\n",
    "\n",
    "$$A = \n",
    "\\left(\\begin{array}{cc} \n",
    "1 & 4 & -2\\\\\n",
    "3 & 8 & -4\n",
    "\\end{array}\\right)\n",
    ",\n",
    " y =\n",
    "\\left(\\begin{array}{cc} \n",
    "3\\\\\n",
    "9\n",
    "\\end{array}\\right)\n",
    "$$"
   ]
  },
  {
   "cell_type": "markdown",
   "id": "40eb4379",
   "metadata": {},
   "source": [
    "### 1 b)"
   ]
  },
  {
   "cell_type": "markdown",
   "id": "fcf5f849",
   "metadata": {},
   "source": [
    "Given a matrix **A** $\\in {\\rm I\\!R}^{m \\times n}$  , we want to prove that $A^TA$ and $AA^T$ are both symmetric and are positive semi-definite. We start by proving that $A^TA$ and $AA^T$ are both symmetric for any real matrix **A**.\n",
    "\n",
    "$$\n",
    "(A^TA)^T = A^T(A^T)^T = A^TA\n",
    "$$\n",
    "Similarly, \n",
    "$$\n",
    "(AA^T)^T = (A^T)^TA^T = AA^T\n",
    "$$"
   ]
  },
  {
   "cell_type": "markdown",
   "id": "39846abd",
   "metadata": {},
   "source": [
    "In the first equality, we used the general rule that for any matrices **B** , **C**, it can be shown that $(BC)^T = C^TB^T$. In the second equality, we use that for any matrix **B**, we have that $(B^T)^T = B$. Thus, for any given matrix **A** $\\in {\\rm I\\!R}^{m \\times n}$, we have that $(A^TA)^T = A^TA$, and $(AA^T)^T = AA^T$. Since we have shown that $A^TA$ and $AA^T$ are both equal to their transposed, we conclude that they must be symmetric. <br> <br>\n",
    "Now we will prove that $A^TA$ and $AA^T$ are both positive semi-definite. We know that a matrix B is positive semi-definite if $x^TBx \\geq 0$ for all $ x \\in {\\rm I\\!R}^{n}$ , $x \\neq 0$. If this is a strict inequality, we call **B** positive definite. Inserting $A^TA$ for **B** in our equation gives us the following:\n",
    "\n",
    "$$\n",
    "x^T(A^TA)x = x^TA^TAx = (Ax)^TAx = \\lVert Ax \\rVert^2 \\geq 0\n",
    "$$\n",
    "Similarly,\n",
    "$$\n",
    "x^T(AA^T)x = x^TAA^Tx = (A^Tx)^TA^Tx = \\lVert A^Tx \\rVert^2 \\geq 0 \n",
    "$$\n",
    "\n",
    "Thus $A^TA$ and $AA^T$ are both symmetric and positive semi-definite. $ \\square $\n",
    "\n",
    "If we further assume that our matrix **A** has full rank, i.e. rank(A) = m,  we now choose to look at the invertibility of $AA^T$ and $A^TA$. Do to this, we look at a vector $ x \\in Null(A)$, such that $Ax = 0$. \n",
    "$$\n",
    "A^TAx = 0 \\Rightarrow x \\in Null(A^TA)\n",
    "$$\n",
    "The nullspace of **A** must necessarily be greater than or equal to the nullspace of $A^TA$; $Null(A^TA) \\subseteq Null(A)$. Similarly, looking at a vector $ y \\in Null(A^TA)$, such that $A^TAy = 0$. Then,\n",
    "\n",
    "$$\n",
    "y^TA^TAy =  (Ay)^TAy = 0  \\Rightarrow y \\Rightarrow Ay = 0 \\Rightarrow  y \\in Null(A)\n",
    "$$\n",
    "\n",
    "Here we get that the nullspace of $A^TA$ must be greater than or equal to the nullspace of **A**; $Null(A) \\subseteq Null(A^TA)$. Combining these two results, we get that \n",
    "$$\n",
    "Null(A) = Null(A^TA) \\Rightarrow rank(A) = rank(A^TA)\n",
    "$$\n",
    "\n",
    "Since A was arbitrairly chosen as a matrix with full rank m, our proof is also valid for $A^T$. \n",
    "Note that we assumed **A** $\\in {\\rm I\\!R}^{m \\times n}$, such that rank(**A**) = m in case of a full rank matrix **A** where m < n. Then,\n",
    "$$\n",
    "rank(A) = rank(A^TA) = rank(AA^T) = m\n",
    "$$\n",
    "\n",
    "Since  $A^TA \\in {\\rm I\\!R}^{n \\times n}$ and $AA^T \\in {\\rm I\\!R}^{m \\times m}$, we can now clearly see that $AA^T$ has full rank and is therefore invertible, while $A^TA$ does not have full rank and consequently is not invertible."
   ]
  },
  {
   "cell_type": "markdown",
   "id": "37e9fb6e",
   "metadata": {},
   "source": [
    "### 1 c)"
   ]
  },
  {
   "cell_type": "markdown",
   "id": "8cc63def",
   "metadata": {},
   "source": [
    "Given the Lagrange function,\n",
    "$$ \n",
    "L(x,\\lambda) = x^Tx + \\lambda^T(Ax - y)\n",
    "$$\n",
    "\n",
    "we now look to find its gradient, both with respect to **x** and to $\\lambda$. We have that   $ \\lambda \\in {C}^{m}$, $ y \\in {\\rm I\\!R}^{m}$. We start by looking at the gradient with respect to **x**:\n",
    "\n",
    "$$\n",
    "\\nabla_x L(x,\\lambda) = \\frac{d}{dx} ( x^Tx) + \\frac{d}{dx} (\\lambda^T (Ax-y))\n",
    "$$\n",
    "\n",
    "Here, we have denote the partial derivate as $\\frac{d}{dx}$, by which we mean $\\frac{d}{dx} = \\left( \\frac{\\partial}{\\partial x_1}, \\frac{\\partial}{\\partial x_2}, \n",
    " \\ldots , \\frac{\\partial}{\\partial x_n}\\right)$, since our **x** is a vector on the form $(x_1, x_2, ... , x_n)^T$. Looking at our first term, $x^Tx$, we can see that this is simply the sum of the squared elements in **x**. <br><br>\n",
    " $$\n",
    " x^Tx = [x_1,x_2, ... , x_n]  \\begin{bmatrix}x_1\\\\x_2\\\\\\vdots\\\\x_n\\end{bmatrix} = x_1^2 + x_2^2 + ... + x_n^2\n",
    "$$\n",
    "\n",
    "Putting this expression in for $x^Tx$, we can calculate the first part of our gradient:\n",
    "\n",
    "$$\n",
    "\\tag{1}\n",
    "\\frac{d}{dx} ( x^Tx) = \\left( \\frac{\\partial}{\\partial x_1}, \\frac{\\partial}{\\partial x_2}, \n",
    " \\ldots , \\frac{\\partial}{\\partial x_n}\\right)  (x_1^2 + x_2^2 + ... + x_n^2) = \\begin{bmatrix}2x_1\\\\2x_2\\\\\\vdots\\\\2x_n\\end{bmatrix} = 2x\n",
    "$$\n",
    "\n",
    "Now we look at our second term of the original equation. We notice that both $\\lambda^T$ and **y** are independent of **x**, which simplifies our equation.\n",
    "\n",
    "\n",
    "$$\n",
    "\\frac{d}{dx} (\\lambda^T (Ax-y)) =  \\frac{d}{dx}(\\lambda^TAx)\n",
    "$$\n",
    "\n",
    "We now write out $\\lambda^TAx$:\n",
    "\n",
    "$$\n",
    "\\lambda^TA\\boldsymbol{x} = [\\lambda_1,\\lambda_2, ..., \\lambda_m]\\begin{bmatrix}a_{11}&a_{12}&\\cdots&a_{1n}\\\\a_{21}&\\ddots&&\\vdots\\\\\\vdots&&&\\\\a_{m1}&\\cdots&&a_{mn}\\end{bmatrix}\n",
    "\\begin{bmatrix}x_1\\\\x_2\\\\\\vdots\\\\x_n\\end{bmatrix}\n",
    "= [\\lambda_1,\\lambda_2, ..., \\lambda_m] \\begin{bmatrix}a_{11}x_1+a_{12}x_2+\\ldots+a_{1n}x_n\\\\\n",
    "a_{21}x_1+a_{22}x_2+\\ldots+a_{2n}x_n\\\\\\vdots\\\\\n",
    "a_{m1}x_1+a_{m2}x_2+\\ldots+a_{mn}x_n\\end{bmatrix} \n",
    "$$\n",
    "<br><br>\n",
    "$$ \n",
    "\\tag{2}\n",
    "\\Rightarrow \\lambda^TA\\boldsymbol{x}= \\lambda_1(a_{11}x_1+a_{12}x_2+\\ldots+a_{1n}x_n) + \\lambda_2(a_{21}x_1+a_{22}x_2+\\ldots+a_{2n}x_n) + ... + \\lambda_m(a_{m1}x_1+a_{m2}x_2+\\ldots+a_{mn}x_n)\n",
    "$$\n",
    "\n",
    "$$\n",
    "\\Rightarrow \\frac{d}{dx}(\\lambda^TAx) = \\left( \\frac{\\partial}{\\partial x_1}, \\frac{\\partial}{\\partial x_2}, \n",
    " \\ldots , \\frac{\\partial}{\\partial x_n}\\right) (\\lambda^TAx) = \\begin{bmatrix}\\lambda_1a_{11}+\\lambda_2a_{21}+\\ldots+\\lambda_ma_{m1}\\\\\n",
    "\\lambda_1a_{12}+\\lambda_2a_{22}+\\ldots+\\lambda_ma_{m2}\\\\\\vdots\\\\\n",
    "\\lambda_1a_{1n}+\\lambda_2a_{2n}+\\ldots+\\lambda_ma_{mn}\\end{bmatrix} = A^T\\lambda\n",
    "$$\n",
    "\n",
    "Now we can write out $ \\nabla_x L(x,\\lambda) = 0$ as such:\n",
    "\n",
    "$$\n",
    "\\tag{3}\n",
    "\\nabla_x L(x,\\lambda) = 2x + A^T \\lambda = 0 \\Rightarrow  x_{min} = - \\frac{A^T \\lambda}{2}\n",
    "$$"
   ]
  },
  {
   "cell_type": "markdown",
   "id": "58002b1d",
   "metadata": {},
   "source": [
    "Now we do the same for $ \\nabla_\\lambda L(x,\\lambda)$:\n",
    "$$\n",
    "\\nabla_\\lambda L(x,\\lambda) = \\frac{d}{d\\lambda} (x^Tx +\\lambda^T (Ax-y)) =  \\frac{d}{d\\lambda}(\\lambda^TAx) + \\frac{d}{d\\lambda}(-\\lambda^Ty) \n",
    "$$\n",
    "\n",
    "Similarly, we have defined the partial derivate $\\frac{d}{d\\lambda}$, by which we mean $\\frac{d}{d\\lambda} = \\left( \\frac{\\partial}{\\partial \\lambda_1}, \\frac{\\partial}{\\partial \\lambda_2}, \n",
    " \\ldots , \\frac{\\partial}{\\partial \\lambda_n}\\right)$. For the first term, we use equation (2) from above. <br><br>\n",
    "$$\n",
    "\\frac{d}{d\\lambda}(\\lambda^TAx) = \\frac{d}{d\\lambda} (\\lambda_1(a_{11}x_1+a_{12}x_2+\\ldots+a_{1n}x_n) + \\lambda_2(a_{21}x_1+a_{22}x_2+\\ldots+a_{2n}x_n) + ... + \\lambda_n(a_{n1}x_1+a_{n2}x_2+\\ldots+a_{nn}x_n))\n",
    "$$\n",
    "$$\n",
    " = \\begin{bmatrix}a_{11}x_1+a_{12}x_2+\\ldots+a_{1n}x_n\\\\\n",
    "a_{21}x_1+a_{22}x_2+\\ldots+a_{2n}x_n\\\\\\vdots\\\\\n",
    "a_{n1}x_1+a_{n2}x_2+\\ldots+a_{nn}x_n\\end{bmatrix} = Ax\n",
    "$$\n",
    "\n",
    "Now we find the derivative for the second term.\n",
    "$$\n",
    "\\frac{d}{d\\lambda}(-\\lambda^Ty) = \\frac{d}{d\\lambda} (-y_1\\lambda_1 - y_2\\lambda_2 - ... - y_n\\lambda_n)\n",
    "$$\n",
    "$$\n",
    "\\left( \\frac{\\partial}{\\partial \\lambda_1}, \\frac{\\partial}{\\partial \\lambda_2}, \n",
    " \\ldots , \\frac{\\partial}{\\partial \\lambda_n}\\right)(-y_1\\lambda_1 - y_2\\lambda_2 - ... - y_n\\lambda_n) = \\begin{bmatrix}-y_1\\\\\n",
    "-y_2\\\\\\vdots\\\\\n",
    "-y_n\\end{bmatrix} = -y\n",
    "$$\n",
    "\n",
    "Combining these two results, and setting$\\nabla_\\lambda L(x,\\lambda) = 0$, we get the following:\n",
    "\n",
    "$$\n",
    "\\tag{4}\n",
    "\\nabla_\\lambda L(x,\\lambda) = Ax - y = 0\n",
    "\\Rightarrow Ax = y \n",
    "$$\n",
    "\n",
    "Putting (3) into (4), we get the following:\n",
    "\n",
    "$$\n",
    "Ax - y= A(- \\frac{A^T \\lambda}{2})- y = 0 \\Rightarrow \\lambda=-2(AA^T)^{-1} y \n",
    "$$\n",
    "\n",
    "We then put this new expression for $\\lambda$ into (3), and arrive at our desired result.\n",
    "\n",
    "$$\n",
    "\\tag{5}\n",
    "x_{min} = - \\frac{A^T \\lambda}{2} = - \\frac{A^T( -2(AA^T)^{-1} y) }{2} = A^T(AA^T)^{-1}y\n",
    "$$"
   ]
  },
  {
   "cell_type": "markdown",
   "id": "ead9b945",
   "metadata": {},
   "source": [
    "### 1 d)"
   ]
  },
  {
   "cell_type": "markdown",
   "id": "24885f33",
   "metadata": {},
   "source": [
    "Given $A^T = QR$, where $Q \\in {\\rm I\\!R}^{n \\times m}$ is orthogonal and $R \\in {\\rm I\\!R}^{m \\times m}$ is upper triangular, we can further rewrite (5). We also aknowledge that $(R^{-T}) = (R^T)^{-1} = (R^T)^{-1}$ in our usage of a QR decomposition. Furthermore, we note that the orthogonality of Q implies that $Q^TQ = QQ^T = I$, where I is the identity matrix. We can then rewrite (5) as such: <br><br>\n",
    "$$\n",
    "x_{min} = A^T(AA^T)^{-1}y = (QR)((QR)^TQR)^{-1}y = QR(R^TR)^{-1}y\n",
    "$$\n",
    "$$\n",
    "\\tag{6}\n",
    "x_{min} = QRR^{-1}R^{-T}y = QR^{-T} y\n",
    "$$"
   ]
  },
  {
   "cell_type": "markdown",
   "id": "a74fd4a5",
   "metadata": {},
   "source": [
    "To solve the equation above, we introduce some code which performs Gram-Schmidt orthonornalization."
   ]
  },
  {
   "cell_type": "code",
   "execution_count": 1,
   "id": "6bbec631",
   "metadata": {},
   "outputs": [],
   "source": [
    "#Importing necessary libraries for the entire project\n",
    "import numpy as np\n",
    "import scipy as sp\n",
    "import scipy.linalg\n",
    "import matplotlib.pyplot as plt"
   ]
  },
  {
   "cell_type": "code",
   "execution_count": 2,
   "id": "e1932386",
   "metadata": {},
   "outputs": [],
   "source": [
    "def gram_schmidt(A):\n",
    "    \n",
    "    # Define n and m\n",
    "    n,m = A.shape\n",
    "    \n",
    "    # Initialize empty Q and R \n",
    "    Q = np.zeros((m,n))\n",
    "    R = np.zeros((m,m))\n",
    "    \n",
    "    # Initialize first columns in Q and R\n",
    "    u0 = A[:,0]\n",
    "    q0 = u0/sp.linalg.norm(u0, 2)\n",
    "    Q[0] = q0\n",
    "    R[0,0] = np.inner(A[:,0],q0)\n",
    "    \n",
    "    # Calculate Q and R\n",
    "    for k in range(1, m):\n",
    "        u_k = A[:,k].astype(np.float64)\n",
    "        for j in range(0, k):\n",
    "            r = np.inner(A[:,k],Q[j])\n",
    "            R[j,k] = r\n",
    "            u_k -= r*Q[j].astype(np.float64)\n",
    "            \n",
    "        q_k = u_k / sp.linalg.norm(u_k,2)\n",
    "        Q[k] = q_k\n",
    "        R[k,k] = np.inner(A[:,k],Q[k])\n",
    "    \n",
    "    return Q.T, R"
   ]
  },
  {
   "cell_type": "markdown",
   "id": "34c30d1d",
   "metadata": {},
   "source": [
    "### 1 e)"
   ]
  },
  {
   "cell_type": "markdown",
   "id": "4141b30f",
   "metadata": {},
   "source": [
    "Now that we have a way of finding the QR decompostion of a given matrix **A**, we now want to solve equation (6) for $x_{min}$. This would seemingly imply that we have to find both Q and R, and then find the inverse-transpose of R. Since we know that finding the inverse of matrices can be both computationally demanding and possibly prone to computer float errors, we want to find a way to avoid calculating the inverse of any matrix. We therefore rewrite equation (6) in the following way."
   ]
  },
  {
   "cell_type": "markdown",
   "id": "3dec43f2",
   "metadata": {},
   "source": [
    "$$\n",
    "x_{min} = QR^{-T} y \\Rightarrow R^TQ^Tx_{min} = R^TQ^TQR^{-T}y = y \n",
    "$$"
   ]
  },
  {
   "cell_type": "markdown",
   "id": "8a6e0704",
   "metadata": {},
   "source": [
    "We now set $Q^Tx_{min} = z$, which gives us these two equations:"
   ]
  },
  {
   "cell_type": "markdown",
   "id": "4d4fcb7e",
   "metadata": {},
   "source": [
    "$$\n",
    "Q^Tx_{min} = z\n",
    "$$\n",
    "$$\n",
    "R^Tz = y\n",
    "$$"
   ]
  },
  {
   "cell_type": "markdown",
   "id": "a47aed28",
   "metadata": {},
   "source": [
    "Since $R$ is upper-triangular, we know that $R^T$ is lower-triangular. Therefore we can use backwards substitution to solve for z, and then using our calculated z to solve for $x_{min}$ in our first equation. This is implemented in the function below."
   ]
  },
  {
   "cell_type": "code",
   "execution_count": 3,
   "id": "9b590894",
   "metadata": {},
   "outputs": [],
   "source": [
    "def QR_solver(Q, R, y):\n",
    "    \n",
    "    #calculates our z using backwards substitution\n",
    "    z = sp.linalg.solve_triangular(R.T, y, lower=True)\n",
    "    x_min = Q @ z\n",
    "    return x_min"
   ]
  },
  {
   "cell_type": "markdown",
   "id": "25283828",
   "metadata": {},
   "source": [
    "### 1 f) "
   ]
  },
  {
   "cell_type": "markdown",
   "id": "03fd2870",
   "metadata": {},
   "source": [
    "Now that we have implemented a way of solving our system of equations, we wish to compare our method of QR decompositioning to the far more complex and \"fine-tuned\" SciPy implementation; scipy.linalg.solve. Here, we are both interested in the run time of each method for a given set of systems, as well as how accurate solutions they each give. To measure the run time **%%timeit** will be used, and for accuracy we will measure $\\|x_{true} - x_{approx}\\|$  for a given solution **y**.  <br> \n",
    "To generate a random matrix **A**, we will use some of the handed out code, shown below. The function `generate_A()` takes in the dimensions n and m of **A**, and returns a full rank matrix **A** such that $A \\in {\\rm I\\!R}^{m \\times n}$."
   ]
  },
  {
   "cell_type": "code",
   "execution_count": 4,
   "id": "1b196dd9",
   "metadata": {},
   "outputs": [],
   "source": [
    "#HANDED OUT CODE\n",
    "\n",
    "# Generate matrix A \\in \\mathbb{R}^{m \\times n}\n",
    "\n",
    "def generate_A(m,n):\n",
    "    \"\"\"\n",
    "    Generates m times n with correlated columns.\n",
    "    Input:\n",
    "        m: int, first dimension of A\n",
    "        n: int, second dimension of A\n",
    "    output:\n",
    "        A: (m,n) array\n",
    "    \"\"\"\n",
    "\n",
    "    cov_eigvecs = np.random.uniform(-1.0,1.0,(n,n))\n",
    "    cov = cov_eigvecs.T @ cov_eigvecs\n",
    "    v = np.sqrt(np.diag(cov))\n",
    "    outer_v = np.outer(v, v)\n",
    "    corr = cov / outer_v\n",
    "    corr[cov == 0] = 0\n",
    "    chol = sp.linalg.cholesky(corr, lower=True) \n",
    "    A = np.random.normal(0, 1.0,(m,n))\n",
    "    A = np.dot(A,chol.T)\n",
    "    return A"
   ]
  },
  {
   "cell_type": "code",
   "execution_count": 5,
   "id": "b2a19452",
   "metadata": {},
   "outputs": [],
   "source": [
    "m = 2048\n",
    "n = 8096\n",
    "A = generate_A(m,n)"
   ]
  },
  {
   "cell_type": "markdown",
   "id": "f04b5796",
   "metadata": {},
   "source": [
    "Next, we introduce even more handed out code. The code block below generates **N** sets of **x** and **y** vectors, such that $Ax =y$ for any given pair. These **x**- and **y**-vectors are stored in **X** and **Y**, respectively. As requested, we set $ N = 100$."
   ]
  },
  {
   "cell_type": "code",
   "execution_count": 6,
   "id": "8a915582",
   "metadata": {},
   "outputs": [
    {
     "name": "stdout",
     "output_type": "stream",
     "text": [
      "(8096, 100)\n",
      "(2048, 100)\n"
     ]
    }
   ],
   "source": [
    "N = 100 # Number of test data we want to generate\n",
    "\n",
    "# Generate solutions X columnwise, X[:,i] to access i-th vector\n",
    "X = np.random.normal(0.0,1.0,(A.shape[1],N))\n",
    "\n",
    "# Generate left hand sides Y columnwise Y[:,i] to access lhs\n",
    "Y = np.dot(A,X)\n",
    "\n",
    "# Doublecheck shapes\n",
    "print(X.shape) # Expect (n,N)\n",
    "print(Y.shape) # Expect (m,N)"
   ]
  },
  {
   "cell_type": "markdown",
   "id": "fc68c970",
   "metadata": {},
   "source": [
    "Now we have implemented the necessary code, we can start comparing our two equation solvers. To use `scipy.linalg.solve()`, we must precalculate the matrix $AA^T$, while for`QR_solver()` it is necessary to precalculate our QR-decomposition of **A**. We start by looking at the runtime of constructing $AA^T$ in the first block, and then look at the runtime for our QR-decomposition in the second block. Here we will re-run both code blocks 6 times to get a good standard deviation of our runtime.   "
   ]
  },
  {
   "cell_type": "code",
   "execution_count": 7,
   "id": "78cd6478",
   "metadata": {},
   "outputs": [
    {
     "name": "stdout",
     "output_type": "stream",
     "text": [
      "291 ms ± 6.7 ms per loop (mean ± std. dev. of 6 runs, 1 loop each)\n"
     ]
    }
   ],
   "source": [
    "%%timeit -r 6\n",
    "AAT = A@A.T"
   ]
  },
  {
   "cell_type": "code",
   "execution_count": 8,
   "id": "7451c2c3",
   "metadata": {},
   "outputs": [
    {
     "name": "stdout",
     "output_type": "stream",
     "text": [
      "34.1 s ± 1.46 s per loop (mean ± std. dev. of 6 runs, 1 loop each)\n"
     ]
    }
   ],
   "source": [
    "%%timeit -r 6\n",
    "Q,R = gram_schmidt(A.T)"
   ]
  },
  {
   "cell_type": "markdown",
   "id": "ce4b820b",
   "metadata": {},
   "source": [
    "From the two code-blocks above, we can clearly infer that QR-decomposition the way we have implemented it, is far more time-consuming than calculating $AA^T$. While calculating $AA^T$ takes us less than half a second, the average runtime for our QR-decomposition takes over 30 seconds; over 50 times as long.\n",
    "\n",
    "We now wish to use these compositions to solve the test data that we generated in a few code-blocks earlier. Here we use our already found QR-decomposition in `QR_solver()`, and compare its runtime to NumPy's `numpy.linalg.solve()`."
   ]
  },
  {
   "cell_type": "code",
   "execution_count": 9,
   "id": "eac600e9",
   "metadata": {},
   "outputs": [],
   "source": [
    "#Find QR decomposition\n",
    "Q,R = gram_schmidt(A.T)\n",
    "\n",
    "#Calculate matrix AA^T\n",
    "AAT = A @ A.T"
   ]
  },
  {
   "cell_type": "code",
   "execution_count": 10,
   "id": "0c84c3ac",
   "metadata": {},
   "outputs": [
    {
     "name": "stdout",
     "output_type": "stream",
     "text": [
      "13.1 s ± 39.8 ms per loop (mean ± std. dev. of 6 runs, 1 loop each)\n"
     ]
    }
   ],
   "source": [
    "%%timeit -r 6\n",
    "# Solve with np.linalg.solve for every generated y,\n",
    "# and finding the total runtime\n",
    "for y in Y.T:\n",
    "    z = np.linalg.solve(AAT,y)\n",
    "    x_min = A.T @ z"
   ]
  },
  {
   "cell_type": "code",
   "execution_count": 11,
   "id": "722bd932",
   "metadata": {},
   "outputs": [
    {
     "name": "stdout",
     "output_type": "stream",
     "text": [
      "982 ms ± 3.15 ms per loop (mean ± std. dev. of 6 runs, 1 loop each)\n"
     ]
    }
   ],
   "source": [
    "%%timeit -r 6\n",
    "# Solve with QR-decomposition for every generated y,\n",
    "# and finding the total runtime\n",
    "for y in Y.T:\n",
    "    QR_solver(Q,R,y)"
   ]
  },
  {
   "cell_type": "markdown",
   "id": "416b1b2a",
   "metadata": {},
   "source": [
    "As we can see, the QR-decomposition method is significantly faster than `numpy.linalg.solve()`at computing $x_{min}$ when it is being run for large data sets of system of equations. While the NumPy implementation uses closer to 13 seconds for $N = 100$ different y-vectors, our `QR_solver()` uses closer to 1 second; less than a tenth of the runtime. Combining these results with the runtime of the pre-calculations, it seems that QR-decomposition performs best timewise when dealing with a very large data set ( having N being large). For smaller N, our way of computing the QR-decomposition of **A** seems to be too time-costly for it to be a more viable option than simply calculating $AA^T$, and then using  `numpy.linalg.solve()`. "
   ]
  },
  {
   "cell_type": "markdown",
   "id": "e55f26dd",
   "metadata": {},
   "source": [
    "One can also ask if these implementations differ in accuracy, or differently phrased; what is the difference in magnitude of $\\|x_{true} - x_{approx}\\|$ for our two implementations? We implement some code below to check whether $\\|x_{true} - x_{approx}\\|$ differs for  `numpy.linalg.solve()` and `QR_solver()`."
   ]
  },
  {
   "cell_type": "code",
   "execution_count": 12,
   "id": "9b56e21b",
   "metadata": {},
   "outputs": [],
   "source": [
    "# Calculate x_min with QR_solver() for each y and store in list\n",
    "x_min_QR = [QR_solver(Q,R,y) for y in Y.T]\n",
    "# Create list of norms of difference between x_true and x_min found\n",
    "QR_norms = [np.linalg.norm(x_min_QR[i] - X.T[i]) for i in range(len(X.T))]\n",
    "\n",
    "# Calculate x_min with np.linalg.solve() for each y and store in list\n",
    "x_min_numpy = [A.T @ np.linalg.solve(AAT,y) for y in Y.T]\n",
    "# Create list of norms of difference between x_true and x_min found\n",
    "numpy_norms = [np.linalg.norm(x_min_numpy[i] - X.T[i]) for i in range(len(X.T))]"
   ]
  },
  {
   "cell_type": "code",
   "execution_count": 13,
   "id": "065af092",
   "metadata": {},
   "outputs": [
    {
     "name": "stdout",
     "output_type": "stream",
     "text": [
      "Difference between norms of QR and np.linalg.solve():  8.038873388460929e-14\n"
     ]
    }
   ],
   "source": [
    "norm_diff = np.array(QR_norms) - np.array(numpy_norms)\n",
    "print(\"Difference between norms of QR and np.linalg.solve(): \", np.linalg.norm(norm_diff))"
   ]
  },
  {
   "cell_type": "markdown",
   "id": "a46e85db",
   "metadata": {},
   "source": [
    "As we can see, the accuracy of `numpy.linalg.solve()` and `QR_solver()` do not differ in norm from eachother from $x_{true}$ other than what can be expected from the possible floating errors made by the computer. The two implementations seem to be equally accurate in finding $x_{min}$, and are therefore highly useful in returning a solution. Since we know that there is a unique solution $x_{min}$, it is reasonable to say that both our methods converge towards said solution. We should also note that all though both $x_{true}$ and $x_{min}$ are solutions to our system, the norm of $x_{min}$ is significantly lower."
   ]
  },
  {
   "cell_type": "markdown",
   "id": "cb205dd3",
   "metadata": {},
   "source": [
    "## TASK 2"
   ]
  },
  {
   "cell_type": "markdown",
   "id": "02d625f4",
   "metadata": {},
   "source": [
    "### 2 a)"
   ]
  },
  {
   "cell_type": "markdown",
   "id": "318333e7",
   "metadata": {},
   "source": [
    "We now switch our focus to Tikhonov regularisation, which tries to solve $Ax = y$ for **x** by using a combination of a least-squares solution and a weighted constraint solution. Our solution then fufills the following equation:\n",
    "$$\n",
    "x_r = \\underset{x\\in\\mathbb{R}^n}{\\text{arg min}}\\hspace{0.3cm} \\|Ax-y\\|^2+\\mu\\|x\\|^2.\n",
    "$$\n",
    "<br>\n",
    "Here, $\\mu$  is our weight, where $\\mu > 0$. To ease notation, we introduce the a function $T(x) = \\|Ax-y\\|^2+\\mu\\|x\\|^2$, such that  <br>  \n",
    "$$\n",
    "\\tag{7} \n",
    "x_r = \\underset{x\\in\\mathbb{R}^n}{\\text{arg min}}\\hspace{0.3cm} T(x).\n",
    "$$\n",
    "<br> \n",
    "\n",
    "Given that a solution of (7) satisfies $\\nabla_xT(x)=0$, we can derive a expression which contains our solution $x_r$. <br><br>\n",
    "$$\n",
    " \\nabla_xT(x) = \\nabla_x(\\|A\\boldsymbol{x}-\\boldsymbol{y}\\|^2+\\mu\\|\\boldsymbol{x}\\|^2)\n",
    "$$\n",
    "\n",
    "Here we can use the results that we found in **TASK 1, 1 c)**, namely that  $\\nabla_z z^Tz = \\nabla_z \\|z\\|^2 = 2z$ and that $\\nabla_x Ax = A^T$. Using this we can already see the derivative of our second term.\n",
    "$$\n",
    "\\nabla_x \\mu\\|x\\|^2 = 2\\mu \\boldsymbol{x} \n",
    "$$\n",
    "\n",
    "\n",
    "\n",
    "Looking at our first term, we need to apply the chain rule as well as our results from **TASK 1, 1 c)**. <br><br>\n",
    "$$\n",
    "\\begin{aligned}\n",
    "\\nabla_x(\\|A\\boldsymbol{x}-\\boldsymbol{y}\\|^2 &= \\frac{\\partial U}{\\partial x} \\cdot \\frac{\\partial }{\\partial U}\\|U\\|^2 , U = A\\boldsymbol{x}-\\boldsymbol{y} \\\\\n",
    " &=  A^T \\cdot(2 \\cdot(A\\boldsymbol{x}-\\boldsymbol{y})) = 2A^TA\\boldsymbol{x}-2A^T\\boldsymbol{y}\n",
    "\\end{aligned}\n",
    "$$\n",
    "\n",
    "\n",
    "We now combine these two terms to find the final expression for $\\nabla_x T(x)$, as well that we set this gradient equal to zero to find our $x_r$.\n",
    "\n",
    "$$\n",
    " \\nabla_xT(x) = \\nabla_x(\\|A\\boldsymbol{x}-\\boldsymbol{y}\\|^2+\\mu\\|\\boldsymbol{x}\\|^2) = 2A^TA\\boldsymbol{x_r}-2A^T\\boldsymbol{y} + 2\\mu\\boldsymbol{x_r} = 0\n",
    "$$\n",
    "$$\n",
    "\\tag{8}\n",
    "\\Rightarrow   (A^TA+\\mu I)\\boldsymbol{x_r}=A^T\\boldsymbol{y}\n",
    "$$\n"
   ]
  },
  {
   "cell_type": "markdown",
   "id": "6cb292be",
   "metadata": {},
   "source": [
    "We now want to show that $A^TA + \\mu I$ is symmetric positive definite, SPD. We start by showing that it is symmetric. Our first realization is that $\\mu I$ is SPD for all $\\mu > 0$, as the identity matrix is a diagonal matrix such that $I^T = I$. Furthermore, we have already proven in **TASK 1, 1 b)** that $A^TA$ is symmetric positive semi-definite, which implies that $A^TA + \\mu I$ also must be symmetric; the sum of a symmetric matrix with a diagonal matrix is necessarily symmetric.\n",
    "We now have only have to prove that $A^TA + \\mu I$ is positive definite. We know that a matrix B is positive definite if $x^TBx > 0$ for all $ x \\in {\\rm I\\!R}^{n}$ , $x \\neq 0$ <br> <br>\n",
    "$$\n",
    "\\begin{aligned}\n",
    "x^T(A^TA + \\mu I)x &= x^TA^TAx + x^T\\mu Ix \\\\&=(A^Tx)^Tx + \\mu(Ix)^T(Ix) \\\\\n",
    "&= \\|A^Tx\\|^2 + \\mu\\|Ix\\|^2 \n",
    "\\end{aligned}\n",
    "$$\n",
    "\n",
    "As we already have showed in **TASK 1, 1 b)** $\\|A^Tx\\|^2 \\geq 0$ and $\\|Ix\\|^2 \\geq 0$. But, since $ \\mu > 0$, then we have that $\\|A^Tx\\|^2 + \\mu\\|Ix\\|^2 > 0$. Thus, we have proven that $A^TA + \\mu I$ is SPD. This is also sufficient to say that $A^TA + \\mu I$ is invertible. $\\square$"
   ]
  },
  {
   "cell_type": "markdown",
   "id": "6e1bf879",
   "metadata": {},
   "source": [
    "### 2 b)"
   ]
  },
  {
   "cell_type": "markdown",
   "id": "6768616c",
   "metadata": {},
   "source": [
    "We now want to use a singular value decompostion, SVD, of our given matrix **A**. This means re-writing our matrix as \n",
    "$$\n",
    "A = U \\Sigma V^T\n",
    "$$\n",
    "Here, $U$ and $V$ are real unitary matrices, while $\\Sigma$ is a diagonal matrix with a given number of singular values along its diagonal. We now put this new expression of our matrix $A$ into (8), using that $B^TB = BB^T = I$ for any real unitary matrix $B$. <br> <br>\n",
    "$$\n",
    "\\begin{aligned}\n",
    "((U \\Sigma V^T)^T(U \\Sigma V^T)+\\mu I)\\boldsymbol{x_r}&=(U \\Sigma V^T)^T\\boldsymbol{y} \\\\\n",
    "(V \\Sigma^T U^TU \\Sigma V^T + \\mu VIV^T)\\boldsymbol{x_r} &= V \\Sigma^T U^T\\boldsymbol{y} \\\\\n",
    "V(\\Sigma^T\\Sigma + \\mu I)V^T\\boldsymbol{x_r} &= V \\Sigma^T U^T\\boldsymbol{y} \\\\\n",
    "(\\Sigma^T\\Sigma + \\mu I)V^T\\boldsymbol{x_r} &= \\Sigma^T U^T\\boldsymbol{y}\n",
    "\\end{aligned}\n",
    "$$\n",
    "\n",
    "From our result in **TASK 2, 2 a)**, we can use that $\\Sigma^T\\Sigma + \\mu I$  is SPD and thus invertible. This gives us the following expression for $x_r$. <br><br>\n",
    "$$\n",
    "\\boldsymbol{x_r} = V(\\Sigma^T\\Sigma + \\mu I)^{-1}\\Sigma^T U^T\\boldsymbol{y}\n",
    "$$\n",
    "\n",
    "By definition, $\\Sigma$ and $\\Sigma^T$ are diagonal matrices, which means that $\\Sigma\\Sigma^T$, and more importantly $\\Sigma^T\\Sigma + \\mu I$, are diagonal matrices. This further implies that $D = (\\Sigma^T\\Sigma + \\mu I)^{-1}\\Sigma^T$ is a diagonal matrix. Substituting this into our previous expression, we get our wanted result:\n",
    "\n",
    "$$\n",
    "\\boldsymbol{x_r} = VDU^T\\boldsymbol{y}\n",
    "$$\n",
    "\n"
   ]
  },
  {
   "cell_type": "markdown",
   "id": "cbaf61e2",
   "metadata": {},
   "source": [
    "### 2 c)"
   ]
  },
  {
   "cell_type": "markdown",
   "id": "6f11f15d",
   "metadata": {},
   "source": [
    "We now create a function `Tikonov_solveSVD()`, which will take in matrices $U$ and $V^T$, an array $S$ containing the singular values of $A$, as well as our weight $\\mu$ and a vector $y$. We then use these inputs to find our $x_r$. \n",
    "\n",
    "Since $\\Sigma\\Sigma^T$ contains the square of the singular values $\\sigma_i$ (followed by zeros filling the remaining entries) along its diagonal, $\\Sigma^T\\Sigma + \\mu I$ has diagonal entries of $\\sigma^2_{i} + \\mu$. Since taking the inverse of a diagonal matrix is equivalent to taking the inverse of every diagonal entry, we get that $(\\Sigma^T\\Sigma + \\mu I)^{-1}$ simply has $\\frac{1}{\\sigma^2_{i} + \\mu}$ as its diagonal entries. Finally this means that $D$ as we defined it in **TASK 2, 2 b)**, has the entries $\\frac{\\sigma_i}{\\sigma^2_{i} + \\mu}$ on its diagonal. Note that our singular values $\\sigma_i$ are sorted in descending order along the diagonal of $\\Sigma$.\n",
    "We now implement the function `Tikonov_solveSVD()` which calculates our $x_r$ using what we just discussed."
   ]
  },
  {
   "cell_type": "code",
   "execution_count": 14,
   "id": "2975be75",
   "metadata": {},
   "outputs": [],
   "source": [
    "# Note that the imput S here is a vector\n",
    "# containing our singular values, not a matrix \n",
    "def Tikonov_solveSVD(U,S,vt,mu,y):\n",
    "\n",
    "    # find dimension of D\n",
    "    n = np.size(vt[0])\n",
    "    m = np.size(U[0])\n",
    "    \n",
    "    # calculate non-zero diagonal entries of D\n",
    "    # here \"diag_entries\" are the non-zero diagonal entries,\n",
    "    # while diag is the completed diagonal\n",
    "    diag = [S[i]/(S[i]**2 + mu) for i in range(len(S))]\n",
    "    \n",
    "    # create diagonal matrix D, and fill in entries along its diagonal\n",
    "    D = np.zeros((n,m))\n",
    "    np.fill_diagonal(D,diag)\n",
    "    \n",
    "\n",
    " \n",
    "    #returns x_r\n",
    "    return vt.T @ D @ U.T @ y"
   ]
  },
  {
   "cell_type": "markdown",
   "id": "7f95c3db",
   "metadata": {},
   "source": [
    "### 2 d)"
   ]
  },
  {
   "cell_type": "markdown",
   "id": "ead2ec26",
   "metadata": {},
   "source": [
    "We now want to calculate our $x_r$ using our newly implemented function. To do this, we once again use the previously used `generate_A()` to create our matrix **A**, and then use `numpy.linalg.svd()` to find our matrices $U$, $S$ and $V^T$. Having done that, we generate a solution $x_r$ and the corresponding y-vector as we did in **TASK 1, 1 f)**, and store them seperately as $x_{true}$ and $y_{SVD}$. Lastly, we use `Tikonov_solveSVD()` to calculate our $x_r$ and the error $\\|x_{true} - x_r\\|$, this for a range of $\\mu$-values. To make our code nicer, we implement this in a function we call `x_r_SVD()`, which returns all our $x_r$ vectors in a matrix."
   ]
  },
  {
   "cell_type": "code",
   "execution_count": 15,
   "id": "f70133cd",
   "metadata": {},
   "outputs": [],
   "source": [
    "# Defining som necessary variables\n",
    "m_SVD = 2048\n",
    "n_SVD = 8096\n",
    "\n",
    "# Generating random matrix A_SVD\n",
    "A_SVD = generate_A(m_SVD,n_SVD)"
   ]
  },
  {
   "cell_type": "code",
   "execution_count": 16,
   "id": "4c50e05a",
   "metadata": {},
   "outputs": [],
   "source": [
    "N = 1 # Number of test data we want to generate\n",
    "\n",
    "# Generate solutions X_SVD columnwise, X[:,i] to access i-th vector\n",
    "x_true = np.random.normal(0.0,1.0,(A_SVD.shape[1],N))\n",
    "\n",
    "# Generate left hand sides Y_SVD columnwise Y[:,i] to access lhs\n",
    "y_SVD = np.dot(A_SVD,x_true)"
   ]
  },
  {
   "cell_type": "code",
   "execution_count": 17,
   "id": "97db6b56",
   "metadata": {},
   "outputs": [],
   "source": [
    "def x_r_SVD(A_SVD,y_SVD,mu_vals):\n",
    "    \n",
    "    # Finding SVD decomposition of A_SVD\n",
    "    U,S,vt = np.linalg.svd(A_SVD)\n",
    "    \n",
    "    #create 2d-array for holding x_rs\n",
    "    x_r_matrix = np.zeros((n_SVD, len(mu_vals)))\n",
    "    \n",
    "    #iterate through mu values, calculate err and x_r for each\n",
    "    for i,mu in enumerate(mu_vals):\n",
    "        x_r_matrix[:,i] = Tikonov_solveSVD(U,S,vt,mu,y_SVD).flatten()\n",
    "    \n",
    "    #return x_r- and error values\n",
    "    return x_r_matrix"
   ]
  },
  {
   "cell_type": "markdown",
   "id": "114fddbe",
   "metadata": {},
   "source": [
    "Now that we have a way of finding our $x_r$ and the error $\\|x_{true} - x_r\\|$ for each $\\mu$, we want to compare it to `numpy.linalg.solve()`. For the NumPy implementation, we will only use 10 values $\\mu$ instead of 100 as we did for our SVD, as the NumPy approach should be much slower. We will also compare the runtime of each implementation, as well as the error for a given $\\mu$. We start by implementing a function `x_r_numpy()`, which finds our $x_r$ using `np.linalg.solve()`. Here we assume that $A^TA$ and $A^Ty$ are pre-calculated."
   ]
  },
  {
   "cell_type": "code",
   "execution_count": 18,
   "id": "e3c1d2fd",
   "metadata": {},
   "outputs": [],
   "source": [
    "def x_r_numpy(ATA, ATy, mu_vals):\n",
    "    \n",
    "    #create 2d-array for holding x_rs\n",
    "    x_r_matrix = np.zeros((len(ATA[:,0]), len(mu_vals)))\n",
    "    \n",
    "    #iterate through mu values, calculate err and x_r for each\n",
    "    for i,mu in enumerate(mu_vals):\n",
    "        x_r_matrix[:,i] = np.linalg.solve(ATA + mu * np.identity(len(ATA[:,0])), ATy).flatten()\n",
    "\n",
    "    #return x_r- and error values\n",
    "    return x_r_matrix"
   ]
  },
  {
   "cell_type": "markdown",
   "id": "add6c5b6",
   "metadata": {},
   "source": [
    "We now compare the runtime of our two implementations."
   ]
  },
  {
   "cell_type": "code",
   "execution_count": 19,
   "id": "d304fca0",
   "metadata": {},
   "outputs": [],
   "source": [
    "#creating array of mu-values for SVD and numpy\n",
    "num_SVD = 20\n",
    "mu_vals_SVD = np.logspace(6,-6,num_SVD)\n",
    "\n",
    "num_numpy = 20\n",
    "mu_vals_numpy = np.logspace(6,-6,num_numpy)\n",
    "\n",
    "# calculating ATA and ATy\n",
    "ATA = A_SVD.T @ A_SVD\n",
    "ATy = A_SVD.T @ y_SVD"
   ]
  },
  {
   "cell_type": "code",
   "execution_count": 20,
   "id": "7501086e",
   "metadata": {},
   "outputs": [
    {
     "name": "stdout",
     "output_type": "stream",
     "text": [
      "1min 30s ± 0 ns per loop (mean ± std. dev. of 1 run, 1 loop each)\n"
     ]
    }
   ],
   "source": [
    "%%timeit -r 1 -n 1\n",
    "x_r_SVD(A_SVD,y_SVD,mu_vals_SVD)"
   ]
  },
  {
   "cell_type": "code",
   "execution_count": 21,
   "id": "b2eb9cc0",
   "metadata": {},
   "outputs": [
    {
     "name": "stdout",
     "output_type": "stream",
     "text": [
      "1min 4s ± 0 ns per loop (mean ± std. dev. of 1 run, 1 loop each)\n"
     ]
    }
   ],
   "source": [
    "%%timeit -r 1 -n 1\n",
    "x_r_numpy(ATA,ATy, mu_vals_numpy)"
   ]
  },
  {
   "cell_type": "markdown",
   "id": "96092729",
   "metadata": {},
   "source": [
    "As we can see, NumPys `numpy.linalg.solve()` is somewhat faster than our implemented SVD."
   ]
  },
  {
   "cell_type": "markdown",
   "id": "cf537d4c",
   "metadata": {},
   "source": [
    "We now run our code again, and compare the norm  $\\|x_{true} - x_{min}\\|$ of methods using NumPy and SVD. Then plot both these norms for our range of values for $\\mu$."
   ]
  },
  {
   "cell_type": "code",
   "execution_count": 22,
   "id": "f6ac7346",
   "metadata": {},
   "outputs": [],
   "source": [
    "#creating array of mu-values for SVD and numpy\n",
    "num_SVD = 100\n",
    "mu_vals_SVD = np.logspace(6,-6,num_SVD)\n",
    "\n",
    "num_numpy = 100\n",
    "mu_vals_numpy = np.logspace(6,-6,num_numpy)\n",
    "\n",
    "x_r_matrix_SVD = x_r_SVD(A_SVD,y_SVD,mu_vals_SVD)\n",
    "x_r_matrix_numpy = x_r_numpy(ATA,ATy,mu_vals_SVD)"
   ]
  },
  {
   "cell_type": "code",
   "execution_count": 23,
   "id": "c634ff81",
   "metadata": {},
   "outputs": [],
   "source": [
    "#create array for holding error values\n",
    "err_SVD = np.zeros(num_SVD)\n",
    "err_numpy = np.zeros(num_numpy)\n",
    "for i in range(num_SVD):\n",
    "    err_SVD[i] = np.linalg.norm(x_r_matrix_SVD[:,i].T - x_true.flatten())\n",
    "\n",
    "for i in range(num_numpy):\n",
    "    err_numpy[i] = np.linalg.norm(x_r_matrix_numpy[:,i].T - x_true.flatten())"
   ]
  },
  {
   "cell_type": "code",
   "execution_count": 24,
   "id": "2243b889",
   "metadata": {},
   "outputs": [
    {
     "data": {
      "image/png": "[encoded data removed]",
      "text/plain": [
       "<Figure size 864x432 with 1 Axes>"
      ]
     },
     "metadata": {
      "needs_background": "light"
     },
     "output_type": "display_data"
    }
   ],
   "source": [
    "# We plot our resulting norms for NumPy and SVD \n",
    "\n",
    "plt.figure(figsize=(12,6))\n",
    "plt.title(\"Comparing norm of methods using NumPy and SVD\", fontsize = 20)\n",
    "plt.xlabel(\"$\\mu$\",fontsize = 16)\n",
    "plt.ylabel(\"$\\|x_{true} - x_r\\|$\", fontsize = 16)\n",
    "plt.plot(mu_vals_SVD,err_SVD, label = \"SVD\")\n",
    "plt.plot(mu_vals_numpy, err_numpy, label = \"NumPy\")\n",
    "plt.plot(mu_vals_SVD,[err_SVD[-1]]*100, \"--\", label = '$x_{min}$')\n",
    "plt.semilogx()\n",
    "plt.legend()\n",
    "plt.show()"
   ]
  },
  {
   "cell_type": "markdown",
   "id": "3b76fffd",
   "metadata": {},
   "source": [
    "From the plot it seems that the error is smallest in the interval where $\\mu \\in [10^{-6},10]$, where the errors for SVD and NumPy seems to be identical. Intuitively this makes sense, as a weight means that the term $\\|Ax -y\\|^2$ will dominate in our $T(x)$. Since we arent as interested in minimizing the norm $\\|x\\|$, it makes sense that we get the smallest norm $\\|x_{true} - x_r\\|$ when our weight  $\\mu$ is small."
   ]
  },
  {
   "cell_type": "markdown",
   "id": "0f724663",
   "metadata": {},
   "source": [
    "## TASK 3"
   ]
  },
  {
   "cell_type": "markdown",
   "id": "55cb1310",
   "metadata": {},
   "source": [
    "In this segment, we will look closer at solving the single channel source separation using learnt norm. In our application, we will use it to split a set of images into two categories; zeros and ones. Here we will import the MNIST data set, which was given as a attachment to this project. The images are stored in a matrix with values in $[0,1]$, where the columns are representative of a given image."
   ]
  },
  {
   "cell_type": "markdown",
   "id": "96202c28",
   "metadata": {},
   "source": [
    "### 3 a)"
   ]
  },
  {
   "cell_type": "markdown",
   "id": "91b0a5e7",
   "metadata": {},
   "source": [
    "We start by showing that a matrix $B = I - WW^T$ is a projection matrix, with $W \\in{\\rm I\\!R}^{m \\times n}$ being a matrix containing pairwise orthogonal columns and $I$ being the identity matrix. We note that if a given matrix $A$ is a projection matrix, then $A^2 = A$. Furthermore, pairwise orthogonality means that the columns $(w_1,w_2,...,w_n)$ of $W$ satisfy that $\\langle w_i,w_j \\rangle = 0$, for $i \\neq j$.\n",
    "\n",
    "To prove that $B$ is a projection matrix, we first look at $B^2$: <br><br>\n",
    "$$\n",
    "\\begin{aligned}\n",
    "B^2 = (I - WW^T)^2 &=(I - WW^T)(I - WW^T)  \\\\\n",
    "&= I^2 -2WW^T + (WW^T)(WW^T) \\\\\n",
    "&= I^2 -2WW^T + W(W^TW)W^T \n",
    "\\end{aligned}\n",
    "$$\n",
    "<br>\n",
    " Using that $w_i^Tw_j= \\langle w_i,w_j \\rangle$, we write out $W^TW$ on component form.\n",
    "$$\n",
    "W^TW =\\begin{bmatrix}w_1^T\\\\w_2^T\\\\\\vdots\\\\w_n^T\\end{bmatrix} [w_1,w_2, ... , w_n] = \n",
    "\\begin{bmatrix}\n",
    "\\langle w_1,w_1 \\rangle & \\langle w_1,w_2 \\rangle &\\ldots& \\langle w_1,w_n \\rangle\\\\\n",
    "\\langle w_2,w_1 \\rangle & \\langle w_2,w_2 \\rangle &\\ldots& \\langle w_2,w_n \\rangle\\\\\n",
    "\\vdots & \\vdots &&\\vdots\\\\\n",
    "\\langle w_n,w_1 \\rangle & \\langle w_n,w_2 \\rangle &\\ldots& \\langle w_n,w_n \\rangle\\\\\n",
    "\\end{bmatrix}\n",
    "$$ \n",
    "\n",
    "Knowing that the columns $(w_1,w_2,...,w_n)$ of $W$ are pairwise orthogonal, we have that $\\langle w_i,w_j \\rangle = 0 $ for all $ i \\neq j$, and  $\\langle w_i,w_j \\rangle = 1 $ for $ i = j$. Thus,\n",
    "\n",
    "$$\n",
    "W^TW =\\begin{bmatrix}w_1^T\\\\w_2^T\\\\\\vdots\\\\w_n^T\\end{bmatrix} [w_1,w_2, ... , w_n] = \n",
    "\\begin{bmatrix}\n",
    "1 & 0 &\\ldots& 0\\\\\n",
    "0 & 1 &\\ldots& 0 \\rangle\\\\\n",
    "\\vdots & \\vdots &&\\vdots\\\\\n",
    "0 &0 &\\ldots& 1\\\\\n",
    "\\end{bmatrix} = I\n",
    "$$ \n",
    "\n",
    "Placing this into our equation for $B^2$, we get the following.<br><br>\n",
    "$$\n",
    "B^2 = I^2 -2WW^T + W(I)W^T = I - 2WW^T +WW^T = I -WW^T = B\n",
    "$$\n",
    "$$\n",
    "\\Rightarrow B^2 = B \n",
    "$$\n",
    "<br>\n",
    "Now that we have shown $B$ is a projection matrix, we want to show that it is symmetric positive semi-definite. To do this, we look at the eigenvalues $\\lambda$ and eigenvectors $x$ of $B$, such that $Bx = \\lambda x$:\n",
    "<br>\n",
    "$$\n",
    "B^2x = B(Bx) = B(\\lambda x) = \\lambda(Bx) = \\lambda^2x\n",
    "$$\n",
    "$$\n",
    "\\Rightarrow B^2x = \\lambda^2x \n",
    "$$\n",
    "<br>\n",
    "But as we showed earlier $B$ is a projection matrix, $B^2 = B$.\n",
    "Then,\n",
    "<br>\n",
    "$$\n",
    "Bx = B^2x =  \\lambda^2 x \\wedge Bx = \\lambda x\n",
    "$$\n",
    "$$\n",
    "\\Rightarrow \\lambda^2 = \\lambda \\iff \\lambda = 0 \\vee \\lambda = 1\n",
    "$$\n",
    "<br>\n",
    "Thus, we have shown that our projection matrix $B$ (and all other projection matrices for that matter), can only have the two eigenvalues $\\lambda = 0$ and $\\lambda = 1$. As these eigenvalues are non-negative (but not strictly positive), we only now need to show that $B^T = B$ to prove that our $B$ is symmetric positive semi-definite, SPSD. \n",
    "$$\n",
    "B^T = (I - WW^T)^T = I^T - (WW^T)^T = I - WW^T = B\n",
    "$$\n",
    "\n",
    "As shown $B^T = B$, thus we can conclude that $B$ is SPSD."
   ]
  },
  {
   "cell_type": "markdown",
   "id": "90b1e0c9",
   "metadata": {},
   "source": [
    "### 3 b)"
   ]
  },
  {
   "cell_type": "markdown",
   "id": "09f1f68d",
   "metadata": {},
   "source": [
    "For this task, we want to find the minimal norm, meaning that we want to find \n",
    "$$\n",
    "\\text{arg}_x min \\frac{1}{2}x^TBx, \\hspace{0.5cm} \\text{such that}\\hspace{0.2cm} Ax = y\n",
    "$$\n",
    ",where $A$, $B$ and $x$ are defined as\n",
    "$$\n",
    "A = [I\\quad I] \\quad B=\\begin{bmatrix}B_0&0\\\\0&B_1\\end{bmatrix},\\quad B_0 = I-W_0W_0^T,\\quad B_1=I-W_1W_1^T,\\quad \\boldsymbol{x}=\\begin{bmatrix}\\boldsymbol{u}\\\\\\boldsymbol{v}\\end{bmatrix} .\n",
    "$$\n"
   ]
  },
  {
   "cell_type": "markdown",
   "id": "10f59b48",
   "metadata": {},
   "source": [
    "### 1)"
   ]
  },
  {
   "cell_type": "markdown",
   "id": "80c119c7",
   "metadata": {},
   "source": [
    "Similarly to **TASK 1, 1 c)**, we have a lagrange function which is defined as <br><br>\n",
    "$$ \n",
    "L(x,\\lambda) = x^TBx + \\lambda^T(Ax - y)\n",
    "$$\n",
    "<br>\n",
    ",which we wish to find $x$ such that the the gradient of our lagrange function is equal to zero.<br>\n",
    "We start by looking at $\\nabla_x L(x,\\lambda)$, using our results from **TASK 1, 1 c)**:<br><br>\n",
    "$$\n",
    "\\begin{aligned}\n",
    "\\nabla_x L(x,\\lambda) &= \\frac{d}{dx} (x^TBx) + \\frac{d}{dx} (\\lambda^T(Ax - y))\\\\\n",
    "&= (\\frac{1}{2}B^T +\\frac{1}{2}B)x + A^T \\lambda\n",
    "\\end{aligned}\n",
    "$$\n",
    "\n",
    "$$\n",
    "\\begin{aligned}\n",
    "\\nabla_{\\lambda} L(x,\\lambda) &= \\frac{d}{d\\lambda} (x^TBx) + \\frac{d}{d\\lambda} (\\lambda^T(Ax - y)) = Ax-y\n",
    "\\end{aligned}\n",
    "$$"
   ]
  },
  {
   "cell_type": "markdown",
   "id": "43703699",
   "metadata": {},
   "source": [
    "Setting these equations to zero, we can rewrite this into a system of equations:"
   ]
  },
  {
   "cell_type": "markdown",
   "id": "1a05d56a",
   "metadata": {},
   "source": [
    "$$\n",
    "\\begin{bmatrix}\\ \\frac{1}{2}B^T +\\frac{1}{2}B & A^T\\\\A&0\\end{bmatrix} \\begin{bmatrix}x\\\\ \\lambda \\end{bmatrix} = \\begin{bmatrix}0\\\\ y \\end{bmatrix}\n",
    "$$\n",
    "Here 0 are suitably sized matrices containing only 0. We now swap out $A$, $B$ and $x$ for the expressions we defined earlier, also noting that $B^T = B$, such that $\\frac{1}{2}B^T +\\frac{1}{2}B = B$.\n",
    "\n",
    "$$\n",
    "\\begin{bmatrix}\\ I-W_0W_0^T& 0& I\\\\ 0&I-W_1W_1^T&I\\\\ I&I& 0\\end{bmatrix} \\begin{bmatrix}u\\\\v\\\\ \\lambda \\end{bmatrix} = \\begin{bmatrix}0\\\\0\\\\ y \\end{bmatrix}\n",
    "$$"
   ]
  },
  {
   "cell_type": "markdown",
   "id": "330a0e79",
   "metadata": {},
   "source": [
    "### 2)"
   ]
  },
  {
   "cell_type": "markdown",
   "id": "722cc928",
   "metadata": {},
   "source": [
    "We now wish to eliminate $\\lambda$ from our system of equations above. We do this by writing out our system as three equations:"
   ]
  },
  {
   "cell_type": "markdown",
   "id": "1c2fa36f",
   "metadata": {},
   "source": [
    "$$\n",
    "(I-W_0W_0^T)u + I\\lambda = 0\n",
    "$$\n",
    "\n",
    "$$\n",
    "(I-W_1W_1^T)v I\\lambda = 0\n",
    "$$\n",
    "\n",
    "$$\n",
    "u+v=y\n",
    "$$\n",
    "\n",
    "We now subtract the first equation from our second. \n",
    "\n",
    "$$\n",
    "(I-W_1W_1^T)v + I\\lambda - ((I-W_0W_0^T)u + I\\lambda) = (I-W_1W_1^T)v - (I-W_0W_0^T)u = 0\n",
    "$$\n",
    "\n",
    "Rewriting our 3rd equation as $v = y-u$, we can further rewrite our system.\n",
    "\n",
    "$$\n",
    "(I-W_1W_1^T)(y-u) - (I-W_0W_0^T)u = 0\n",
    "$$\n",
    "$$\n",
    "\\Rightarrow (2I-W_0W_0^T-W_1W_1^T)u = (I-W_1W_1^T)y\n",
    "$$\n",
    "<br>\n",
    "From our last equation, we see that it is possible to write our system of equations as $Cu = d$ with <br><br>\n",
    "$$\n",
    "C = (2I-W_0W_0^T-W_1W_1^T) \\hspace{0.5cm}, d = (I-W_1W_1^T)y\n",
    "$$\n",
    "<br>\n",
    "It is clear that when we have solved $Cu = d$ for $u$, we can find $v$ using that $v = y - u$"
   ]
  },
  {
   "cell_type": "markdown",
   "id": "fd52d84a",
   "metadata": {},
   "source": [
    "### 3)"
   ]
  },
  {
   "cell_type": "markdown",
   "id": "944d9cd0",
   "metadata": {},
   "source": [
    "Now that we have found the necessary equations for calculating $u$ and $v$, we now try to implement a method for solving our system using the minimal norm approach. To do this, we will use the QR-decomposition found in NumPys `numpy.linalg.qr()`, as well as the previously implemented function `QR_solver()`. The choice of using QR-decomposition as our system is quite somewhat large. All though the QR-decomposition itself is quite computationally heavy, our use of `QR_solver()` has shown to be quite fast. The reason for choosing `numpy.linalg.qr()` in favour of our own implemented `gram_schmidt()`, is because the Gram-Schmidt method is known to be numerically unstable."
   ]
  },
  {
   "cell_type": "code",
   "execution_count": 25,
   "id": "5479cc04",
   "metadata": {},
   "outputs": [],
   "source": [
    "def norm_minimizor(W0,W1, mixed):\n",
    "    \n",
    "    n = np.shape(W0)[0]\n",
    "    \n",
    "    I = np.identity(n)\n",
    "    u_vals = np.zeros((n,n))\n",
    "    v_vals = np.zeros((n,n))\n",
    "    \n",
    "    # Calculate C matrix\n",
    "    C = 2*I - W0 @ W0.T - W1 @ W1.T\n",
    "    \n",
    "    #Find QR-decomposition of C\n",
    "    Q,R = np.linalg.qr(C)\n",
    "    \n",
    "    # Calculate d, and then u and v for each picture in mixed\n",
    "    for i,y in enumerate(mixed.T):\n",
    "        d = (I -W1 @ W1.T) @ y\n",
    "        \n",
    "        u =  QR_solver(Q, R, d)\n",
    "        u_vals[i] = u\n",
    "        \n",
    "        v = y - u\n",
    "        v_vals[i] = v\n",
    "    \n",
    "    # Return u's and v's for each picture\n",
    "    return u_vals, v_vals"
   ]
  },
  {
   "cell_type": "markdown",
   "id": "21898ec1",
   "metadata": {},
   "source": [
    "Now that we have implemented the necessary code, we apply ut to a set of images, and look at the runtime."
   ]
  },
  {
   "cell_type": "code",
   "execution_count": 26,
   "id": "06ef8e6b",
   "metadata": {},
   "outputs": [],
   "source": [
    "# Import a matrix with shape (784 x 100),\n",
    "# 100 columns each representing a image with 784 pixels\n",
    "mixed = np.load('mixed.npy')\n",
    "W0 = np.load('W0.npy')\n",
    "W1 = np.load('W1.npy')"
   ]
  },
  {
   "cell_type": "code",
   "execution_count": 27,
   "id": "49c9ec6e",
   "metadata": {},
   "outputs": [
    {
     "name": "stdout",
     "output_type": "stream",
     "text": [
      "431 ms ± 17.5 ms per loop (mean ± std. dev. of 6 runs, 1 loop each)\n"
     ]
    }
   ],
   "source": [
    "%%timeit -r 6 \n",
    "norm_minimizor(W0,W1,mixed)"
   ]
  },
  {
   "cell_type": "markdown",
   "id": "d7f75214",
   "metadata": {},
   "source": [
    "As we can see, our developed method is we quite fast. Now we plot our $u$ and $v$ to see if this approach works for single source separation."
   ]
  },
  {
   "cell_type": "code",
   "execution_count": 28,
   "id": "cc5b74f8",
   "metadata": {},
   "outputs": [],
   "source": [
    "u_vals, v_vals = norm_minimizor(W0,W1,mixed)"
   ]
  },
  {
   "cell_type": "code",
   "execution_count": 29,
   "id": "22748d76",
   "metadata": {
    "scrolled": true
   },
   "outputs": [
    {
     "data": {
      "text/plain": [
       "<matplotlib.image.AxesImage at 0x192c1094d00>"
      ]
     },
     "execution_count": 29,
     "metadata": {},
     "output_type": "execute_result"
    },
    {
     "data": {
      "image/png": "[encoded data removed]",
      "text/plain": [
       "<Figure size 864x864 with 3 Axes>"
      ]
     },
     "metadata": {
      "needs_background": "light"
     },
     "output_type": "display_data"
    }
   ],
   "source": [
    "#Plot a picture, u and v separately\n",
    "\n",
    "figure, (ax1,ax2,ax3) = plt.subplots(1,3)\n",
    "figure.set_figheight(12)\n",
    "figure.set_figwidth(12)\n",
    "\n",
    "ax1.set_title(\"Original picture\")\n",
    "ax2.set_title(\"Seperated channel with zero\")\n",
    "ax3.set_title(\"Seperated channel with one\")\n",
    "\n",
    "ax1.imshow(mixed[:,1].reshape((28,28)), cmap = 'gray')\n",
    "ax2.imshow(u_vals[1].reshape((28,28)), cmap = 'gray')\n",
    "ax3.imshow(v_vals[1].reshape((28,28)), cmap = 'gray')\n"
   ]
  },
  {
   "cell_type": "markdown",
   "id": "cd5db032",
   "metadata": {},
   "source": [
    "Qualitatively, it seems that we are able to separate our two channels realtively well, all though we do see some remaining \"noise\" in our separated images. Still, we have a reasonable argument for saying that the single source separation we have performed, has infact given a meaningful separation. However, a clear drawback in our implementation is that it is heavily dependent on knowing our bases $W_0$ and $W_1$. Without knowing these, we cant use this method."
   ]
  }
 ],
 "metadata": {
  "kernelspec": {
   "display_name": "Python 3",
   "language": "python",
   "name": "python3"
  },
  "language_info": {
   "codemirror_mode": {
    "name": "ipython",
    "version": 3
   },
   "file_extension": ".py",
   "mimetype": "text/x-python",
   "name": "python",
   "nbconvert_exporter": "python",
   "pygments_lexer": "ipython3",
   "version": "3.8.8"
  }
 },
 "nbformat": 4,
 "nbformat_minor": 5
}
